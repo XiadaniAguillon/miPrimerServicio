{
  "nbformat": 4,
  "nbformat_minor": 0,
  "metadata": {
    "colab": {
      "name": "miPrimerProyecto.ipynb",
      "provenance": [],
      "authorship_tag": "ABX9TyPEsj9ARbMlqjz7N4uX8iI5",
      "include_colab_link": true
    },
    "kernelspec": {
      "name": "python3",
      "display_name": "Python 3"
    }
  },
  "cells": [
    {
      "cell_type": "markdown",
      "metadata": {
        "id": "view-in-github",
        "colab_type": "text"
      },
      "source": [
        "<a href=\"https://colab.research.google.com/github/XiadaniAguillon/miPrimerServicio/blob/main/miPrimerProyecto.ipynb\" target=\"_parent\"><img src=\"https://colab.research.google.com/assets/colab-badge.svg\" alt=\"Open In Colab\"/></a>"
      ]
    },
    {
      "cell_type": "code",
      "metadata": {
        "colab": {
          "base_uri": "https://localhost:8080/"
        },
        "id": "LvXQz8gBoCNB",
        "outputId": "c2a34a3e-08fb-40f4-a125-dfdba45499e8"
      },
      "source": [
        "!pip install --upgrade azure-cognitiveservices-vision-computervision"
      ],
      "execution_count": 1,
      "outputs": [
        {
          "output_type": "stream",
          "text": [
            "Collecting azure-cognitiveservices-vision-computervision\n",
            "  Downloading https://files.pythonhosted.org/packages/f2/de/03ddaffabd541829394fb6ee4615f642ed1a14438b4543a01ad58f7d222e/azure_cognitiveservices_vision_computervision-0.7.0-py2.py3-none-any.whl\n",
            "Collecting msrest>=0.5.0\n",
            "\u001b[?25l  Downloading https://files.pythonhosted.org/packages/e8/cc/6c96bfb3d3cf4c3bdedfa6b46503223f4c2a4fa388377697e0f8082a4fed/msrest-0.6.21-py2.py3-none-any.whl (85kB)\n",
            "\u001b[K     |████████████████████████████████| 92kB 4.2MB/s \n",
            "\u001b[?25hCollecting azure-common~=1.1\n",
            "  Downloading https://files.pythonhosted.org/packages/19/2b/46ada1753c4a640bc3ad04a1e20b1a5ea52a8f18079e1b8238e536aa0c98/azure_common-1.1.26-py2.py3-none-any.whl\n",
            "Requirement already satisfied, skipping upgrade: requests~=2.16 in /usr/local/lib/python3.7/dist-packages (from msrest>=0.5.0->azure-cognitiveservices-vision-computervision) (2.23.0)\n",
            "Collecting isodate>=0.6.0\n",
            "\u001b[?25l  Downloading https://files.pythonhosted.org/packages/9b/9f/b36f7774ff5ea8e428fdcfc4bb332c39ee5b9362ddd3d40d9516a55221b2/isodate-0.6.0-py2.py3-none-any.whl (45kB)\n",
            "\u001b[K     |████████████████████████████████| 51kB 5.6MB/s \n",
            "\u001b[?25hRequirement already satisfied, skipping upgrade: certifi>=2017.4.17 in /usr/local/lib/python3.7/dist-packages (from msrest>=0.5.0->azure-cognitiveservices-vision-computervision) (2020.12.5)\n",
            "Requirement already satisfied, skipping upgrade: requests-oauthlib>=0.5.0 in /usr/local/lib/python3.7/dist-packages (from msrest>=0.5.0->azure-cognitiveservices-vision-computervision) (1.3.0)\n",
            "Requirement already satisfied, skipping upgrade: urllib3!=1.25.0,!=1.25.1,<1.26,>=1.21.1 in /usr/local/lib/python3.7/dist-packages (from requests~=2.16->msrest>=0.5.0->azure-cognitiveservices-vision-computervision) (1.24.3)\n",
            "Requirement already satisfied, skipping upgrade: chardet<4,>=3.0.2 in /usr/local/lib/python3.7/dist-packages (from requests~=2.16->msrest>=0.5.0->azure-cognitiveservices-vision-computervision) (3.0.4)\n",
            "Requirement already satisfied, skipping upgrade: idna<3,>=2.5 in /usr/local/lib/python3.7/dist-packages (from requests~=2.16->msrest>=0.5.0->azure-cognitiveservices-vision-computervision) (2.10)\n",
            "Requirement already satisfied, skipping upgrade: six in /usr/local/lib/python3.7/dist-packages (from isodate>=0.6.0->msrest>=0.5.0->azure-cognitiveservices-vision-computervision) (1.15.0)\n",
            "Requirement already satisfied, skipping upgrade: oauthlib>=3.0.0 in /usr/local/lib/python3.7/dist-packages (from requests-oauthlib>=0.5.0->msrest>=0.5.0->azure-cognitiveservices-vision-computervision) (3.1.0)\n",
            "Installing collected packages: isodate, msrest, azure-common, azure-cognitiveservices-vision-computervision\n",
            "Successfully installed azure-cognitiveservices-vision-computervision-0.7.0 azure-common-1.1.26 isodate-0.6.0 msrest-0.6.21\n"
          ],
          "name": "stdout"
        }
      ]
    },
    {
      "cell_type": "code",
      "metadata": {
        "id": "Iwp5EezHpGjX"
      },
      "source": [
        "from azure.cognitiveservices.vision.computervision import ComputerVisionClient\r\n",
        "from azure.cognitiveservices.vision.computervision.models import OperationStatusCodes\r\n",
        "from azure.cognitiveservices.vision.computervision.models import VisualFeatureTypes\r\n",
        "from msrest.authentication import CognitiveServicesCredentials\r\n",
        "\r\n",
        "from array import array\r\n",
        "import os\r\n",
        "from PIL import Image\r\n",
        "import sys\r\n",
        "import time"
      ],
      "execution_count": 3,
      "outputs": []
    },
    {
      "cell_type": "code",
      "metadata": {
        "id": "y042pVkgpTUO"
      },
      "source": [
        "subscription_key = \"*************************\"\r\n",
        "endpoint = \"*********************\""
      ],
      "execution_count": 7,
      "outputs": []
    },
    {
      "cell_type": "code",
      "metadata": {
        "id": "rfMrhDkwpfnv"
      },
      "source": [
        "computervision_client = ComputerVisionClient(endpoint, CognitiveServicesCredentials(subscription_key))"
      ],
      "execution_count": 9,
      "outputs": []
    },
    {
      "cell_type": "code",
      "metadata": {
        "colab": {
          "base_uri": "https://localhost:8080/"
        },
        "id": "-zBhCNLcpomv",
        "outputId": "2006c7bd-afb1-4609-bf70-e57b5b590cda"
      },
      "source": [
        "remote_image_url = \"https://static.wikia.nocookie.net/malcolm/images/b/b4/Hal_T1_2.jpg/revision/latest?cb=20161025005448&path-prefix=es\"\r\n",
        "'''\r\n",
        "Describe an Image - remote\r\n",
        "This example describes the contents of an image with the confidence score.\r\n",
        "'''\r\n",
        "print(\"===== Describe an image - remote =====\")\r\n",
        "# Call API\r\n",
        "description_results = computervision_client.describe_image(remote_image_url )\r\n",
        "# Call API with remote image\r\n",
        "tags_result_remote = computervision_client.tag_image(remote_image_url )\r\n",
        "# Select the visual feature(s) you want.\r\n",
        "remote_image_features = [\"faces\"]\r\n",
        "# Call the API with remote URL and features\r\n",
        "detect_faces_results_remote = computervision_client.analyze_image(remote_image_url_faces, remote_image_features)\r\n",
        "\r\n",
        "# Get the captions (descriptions) from the response, with confidence level\r\n",
        "print(\"***************************\")\r\n",
        "print(\"Description of image: \")\r\n",
        "if (len(description_results.captions) == 0):\r\n",
        "    print(\"No description detected.\")\r\n",
        "else:\r\n",
        "    for caption in description_results.captions:\r\n",
        "        print(\"'{}'\".format(caption.text))\r\n",
        "# Print the results with gender, age, and bounding box\r\n",
        "print(\"***************************\")\r\n",
        "print(\"Genere and Y.O.: \")\r\n",
        "if (len(detect_faces_results_remote.faces) == 0):\r\n",
        "    print(\"No faces detected.\")\r\n",
        "else:\r\n",
        "    for face in detect_faces_results_remote.faces:\r\n",
        "        print(\"'{}' of age {}\".format(face.gender, face.age))\r\n",
        "\r\n",
        "# Print results with confidence score\r\n",
        "print(\"***************************\")\r\n",
        "print(\"Tags in the image: \")\r\n",
        "if (len(tags_result_remote.tags) == 0):\r\n",
        "    print(\"No tags detected.\")\r\n",
        "else:\r\n",
        "    for tag in tags_result_remote.tags:\r\n",
        "        print(\"'{}'\".format(tag.name))\r\n"
      ],
      "execution_count": 27,
      "outputs": [
        {
          "output_type": "stream",
          "text": [
            "===== Describe an image - remote =====\n",
            "***************************\n",
            "Description of image: \n",
            "'Bryan Cranston sitting at a table'\n",
            "***************************\n",
            "Genere and Y.O.: \n",
            "'Male' of age 42\n",
            "***************************\n",
            "Tags in the image: \n",
            "'person'\n",
            "'indoor'\n",
            "'clothing'\n",
            "'human face'\n",
            "'smile'\n",
            "'text'\n",
            "'man'\n",
            "'book'\n"
          ],
          "name": "stdout"
        }
      ]
    }
  ]
}